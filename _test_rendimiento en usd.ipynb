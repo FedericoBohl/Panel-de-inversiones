{
 "cells": [
  {
   "cell_type": "code",
   "execution_count": 11,
   "metadata": {},
   "outputs": [],
   "source": [
    "import requests\n",
    "from datetime import datetime, timedelta\n",
    "import pandas as pd\n",
    "\n",
    "class TokenManager:\n",
    "    def __init__(self, username='Fedebohl',password='Fedecapo_01'):\n",
    "        self.token_info = None\n",
    "        self.user_data={\n",
    "                        'username':username,\n",
    "                        'password':password\n",
    "                        }\n",
    "        self.load_user_data()\n",
    "        self.token_url = 'https://api.invertironline.com/token'\n",
    "        self.base_url = 'https://api.invertironline.com/api/v2'\n",
    "        self.portfolio_url = f'{self.base_url}/portafolio'\n",
    "        self.quotes_url = f'{self.base_url}/Cotizaciones/{{instrument}}/{{country}}/Todos'\n",
    "        self.his_url = f'{self.base_url}/bCBA/Titulos/{{ticker}}/Cotizacion/seriehistorica/2023-01-01/{{date}}/sinAjustar'\n",
    "        self.get_new_token()\n",
    "\n",
    "    def load_user_data(self):\n",
    "        self.username = self.user_data['username']\n",
    "        self.password = self.user_data['password']\n",
    "\n",
    "    def get_new_token(self):\n",
    "        data = {\n",
    "            'grant_type': 'password',\n",
    "            'username': self.username,\n",
    "            'password': self.password\n",
    "        }\n",
    "        headers = {'Content-Type': 'application/x-www-form-urlencoded'}\n",
    "        response = requests.post(self.token_url, data=data, headers=headers)\n",
    "        self.token_info = response.json()\n",
    "        if 'error' in self.token_info:\n",
    "            raise Exception(f\"Error obtaining token: {self.token_info['error']}\")\n",
    "        self.token_info['expires_at'] = datetime.now() + timedelta(seconds=self.token_info['expires_in'])\n",
    "    \n",
    "    def refresh_token(self):\n",
    "        data = {\n",
    "            'grant_type': 'refresh_token',\n",
    "            'refresh_token': self.token_info['refresh_token']\n",
    "        }\n",
    "        headers = {'Content-Type': 'application/x-www-form-urlencoded'}\n",
    "        response = requests.post(self.token_url, data=data, headers=headers)\n",
    "        new_token_info = response.json()\n",
    "        if 'error' in new_token_info:\n",
    "            raise Exception(f\"Error refreshing token: {new_token_info['error']}\")\n",
    "        self.token_info.update(new_token_info)\n",
    "        self.token_info['expires_at'] = datetime.now() + timedelta(seconds=self.token_info['expires_in'])\n",
    "\n",
    "    def ensure_token(self):\n",
    "        if (not self.token_info) or (datetime.now() >= self.token_info['expires_at']):\n",
    "            self.refresh_token() if self.token_info else self.get_new_token()\n",
    "\n",
    "    def get_portfolio(self):\n",
    "        self.ensure_token()\n",
    "        headers = {'Authorization': f\"Bearer {self.token_info['access_token']}\"}\n",
    "        response = requests.get(self.portfolio_url, headers=headers)\n",
    "        if response.status_code != 200:\n",
    "            raise Exception(f\"Error fetching portfolio: {response.text}\")\n",
    "        port_df=pd.DataFrame(response.json()['activos'])\n",
    "        tickers=[equity['simbolo'] for equity in port_df['titulo'].to_list()]\n",
    "        tipos=[equity['tipo'] for equity in port_df['titulo'].to_list()]\n",
    "        port_df=port_df.drop(columns=['cantidad','comprometido','puntosVariacion','ultimoPrecio','ppc','gananciaPorcentaje','gananciaDinero','parking','titulo'])\n",
    "        port_df['simbolo']=tickers\n",
    "        port_df['tipo']=tipos\n",
    "        port_df['tipo']=port_df['tipo'].replace('TitulosPublicos', 'Bonos')\n",
    "        port_df['tipo']=port_df['tipo'].replace('FondoComundeInversion','FCI')\n",
    "        port_df['valorizado%']=round(100*port_df['valorizado']/sum(port_df['valorizado']),2)\n",
    "        port_df['gananciaDiariaPonderada'] = port_df['variacionDiaria'] * port_df['valorizado%']/100\n",
    "        return port_df\n",
    "\n",
    "    def get_quotes(self, instrument):\n",
    "        self.ensure_token()\n",
    "        url = self.quotes_url.format(instrument=instrument, country=('argentina' if instrument!='aDRs' else \"estados_Unidos\"))\n",
    "        headers = {'Authorization': f\"Bearer {self.token_info['access_token']}\"}\n",
    "        response = requests.get(url=url,headers=headers)\n",
    "        if response.status_code != 200:\n",
    "            try:\n",
    "                self.refresh_token()\n",
    "                response = requests.get(url=url,headers=headers)\n",
    "                if response.status_code != 200:\n",
    "                    raise Exception(f\"Error fetching {instrument} quotes: {response.text}\")\n",
    "            except: raise Exception(f\"Error fetching {instrument} quotes: {response.text}\")\n",
    "        df=pd.DataFrame(response.json()['titulos'])\n",
    "        df=df[['simbolo','ultimoPrecio','variacionPorcentual']]\n",
    "        df=df.rename(columns={'variacionPorcentual':'Var%'})\n",
    "        return df\n",
    "    def get_his(self,ticker):\n",
    "        self.ensure_token()\n",
    "        url = self.his_url.format(ticker=ticker,date='2024-08-30')#datetime.today().strftime('%Y-%m-%d'))\n",
    "        headers = {'Authorization': f\"Bearer {self.token_info['access_token']}\"}\n",
    "        response = requests.get(url=url,headers=headers)\n",
    "        if response.status_code != 200:\n",
    "            try:\n",
    "                self.refresh_token()\n",
    "                response = requests.get(url=url,headers=headers)\n",
    "                if response.status_code != 200:\n",
    "                    raise Exception(f\"Error fetching {ticker} quotes: {response.text}\")\n",
    "            except: raise Exception(f\"Error fetching {ticker} quotes: {response.text}\")\n",
    "        df=pd.DataFrame(response.json())\n",
    "        df=df[['ultimoPrecio','fechaHora']]\n",
    "        return df  \n",
    "    \n",
    "    def get_operaciones_hist(self):\n",
    "        self.ensure_token()\n",
    "        operaciones_url = f\"{self.base_url}/operaciones?filtro.estado=todas&filtro.fechaDesde=2020-01-01&filtro.fechaHasta={datetime.today().strftime('%Y-%m-%d')}&filtro.pais=argentina\"\n",
    "        headers = {'Authorization': f\"Bearer {self.token_info['access_token']}\"}\n",
    "        response = requests.get(operaciones_url, headers=headers)\n",
    "        if response.status_code != 200:\n",
    "            raise Exception(f\"Error fetching portfolio: {response.text}\")\n",
    "        df=pd.DataFrame(response.json())\n",
    "        df['fechaOperada'] = pd.to_datetime(df['fechaOperada'].str.split('T').str[0], format='%Y-%m-%d', errors='coerce')\n",
    "        df['fechaOrden'] = pd.to_datetime(df['fechaOrden'].str.split('T').str[0], format='%Y-%m-%d', errors='coerce')\n",
    "        #df['fechaOperada']=df['fechaOperada'].dt.strftime('%Y-%m-%d')\n",
    "        #df = df[df['fechaOperada'].notna()]\n",
    "        #Ajuste por los BOPREALES\n",
    "        filtro = (df['tipo'] == 'Pago de Amortización')\n",
    "        cantidad_vendida=0\n",
    "        filtered_df = df[(df['simbolo'] == 'BPO27') & (df['fechaOperada'] < pd.Timestamp('2024-03-01'))]\n",
    "        for index, row in filtered_df.iterrows():\n",
    "            if row['tipo'] == 'Compra':\n",
    "                cantidad_vendida += row['cantidadOperada']\n",
    "            elif row['tipo'] == 'Venta':\n",
    "                cantidad_vendida -= row['cantidadOperada']\n",
    "        df.loc[(filtro & (df['simbolo']=='BPO27')), 'cantidadOperada'] = cantidad_vendida\n",
    "        df.loc[(filtro & (df['simbolo']=='BPO27')), 'precioOperado'] = 71000\n",
    "        df.loc[(filtro & (df['simbolo']=='BPO27')), 'montoOperado'] = 71000*cantidad_vendida\n",
    "        df.loc[(filtro & (df['simbolo']=='BPO27')), 'fechaOperada'] = pd.Timestamp('2024-03-01')\n",
    "        df.loc[(filtro & (df['simbolo']=='BPO27')), 'tipo'] = 'Venta'\n",
    "        precios = {\n",
    "            'BPOA7': 85000,\n",
    "            'BPOB7': 75000,\n",
    "            'BPOC7': 65000,\n",
    "            'BPOD7': 58000\n",
    "        }\n",
    "        # Actualizar las filas de los nuevos bonos a \"Compra\" con sus precios y montos\n",
    "        for simbolo, precio in precios.items():\n",
    "            filtro_bono = filtro & (df['simbolo'] == simbolo)\n",
    "            df.loc[filtro_bono, 'precioOperado'] = precio\n",
    "            df.loc[filtro_bono, 'montoOperado'] = precio * df.loc[filtro_bono, 'cantidadOperada']\n",
    "            df.loc[filtro_bono, 'fechaOperada'] = pd.Timestamp('2024-03-01')\n",
    "            df.loc[filtro_bono, 'tipo'] = 'Compra'\n",
    "\n",
    "        df=df[df['tipo'].isin(['Compra', 'Venta'])]\n",
    "        df=df[df['estado']=='terminada']\n",
    "        df=df[['tipo','fechaOperada','simbolo','cantidadOperada','montoOperado','precioOperado']]\n",
    "        df=df.sort_values(by='fechaOperada', ascending=True)\n",
    "        return df\n",
    "    \n",
    "    def get_operaciones(self,acciones_now,cedears_now,titpub):\n",
    "        self.ensure_token()\n",
    "        operaciones_url = f\"{self.base_url}/operaciones?filtro.estado=todas&filtro.fechaDesde=2020-01-01&filtro.fechaHasta={datetime.today().strftime('%Y-%m-%d')}&filtro.pais=argentina\"\n",
    "        headers = {'Authorization': f\"Bearer {self.token_info['access_token']}\"}\n",
    "        response = requests.get(operaciones_url, headers=headers)\n",
    "        if response.status_code != 200:\n",
    "            raise Exception(f\"Error fetching portfolio: {response.text}\")\n",
    "        df=pd.DataFrame(response.json())\n",
    "        df['fechaOperada'] = pd.to_datetime(df['fechaOperada'].str.split('T').str[0], format='%Y-%m-%d', errors='coerce')\n",
    "        df['fechaOrden'] = pd.to_datetime(df['fechaOrden'].str.split('T').str[0], format='%Y-%m-%d', errors='coerce')\n",
    "        #df['fechaOperada']=df['fechaOperada'].dt.strftime('%Y-%m-%d')\n",
    "        #df = df[df['fechaOperada'].notna()]\n",
    "        #Ajuste por los BOPREALES\n",
    "        filtro = (df['tipo'] == 'Pago de Amortización')\n",
    "        cantidad_vendida=0\n",
    "        filtered_df = df[(df['simbolo'] == 'BPO27') & (df['fechaOperada'] < pd.Timestamp('2024-03-01'))]\n",
    "        for index, row in filtered_df.iterrows():\n",
    "            if row['tipo'] == 'Compra':\n",
    "                cantidad_vendida += row['cantidadOperada']\n",
    "            elif row['tipo'] == 'Venta':\n",
    "                cantidad_vendida -= row['cantidadOperada']\n",
    "        df.loc[(filtro & (df['simbolo']=='BPO27')), 'cantidadOperada'] = cantidad_vendida\n",
    "        df.loc[(filtro & (df['simbolo']=='BPO27')), 'precioOperado'] = 71000\n",
    "        df.loc[(filtro & (df['simbolo']=='BPO27')), 'montoOperado'] = 71000*cantidad_vendida\n",
    "        df.loc[(filtro & (df['simbolo']=='BPO27')), 'fechaOperada'] = pd.Timestamp('2024-03-01')\n",
    "        df.loc[(filtro & (df['simbolo']=='BPO27')), 'tipo'] = 'Venta'\n",
    "        precios = {\n",
    "            'BPOA7': 85000,\n",
    "            'BPOB7': 75000,\n",
    "            'BPOC7': 65000,\n",
    "            'BPOD7': 58000\n",
    "        }\n",
    "        # Actualizar las filas de los nuevos bonos a \"Compra\" con sus precios y montos\n",
    "        for simbolo, precio in precios.items():\n",
    "            filtro_bono = filtro & (df['simbolo'] == simbolo)\n",
    "            df.loc[filtro_bono, 'precioOperado'] = precio\n",
    "            df.loc[filtro_bono, 'montoOperado'] = precio * df.loc[filtro_bono, 'cantidadOperada']\n",
    "            df.loc[filtro_bono, 'fechaOperada'] = pd.Timestamp('2024-03-01')\n",
    "            df.loc[filtro_bono, 'tipo'] = 'Compra'\n",
    "\n",
    "        df=df[df['tipo'].isin(['Compra', 'Venta'])]\n",
    "        df=df[df['estado']=='terminada']\n",
    "        df=df[['tipo','fechaOperada','simbolo','cantidadOperada','montoOperado','precioOperado']]\n",
    "        df=df.sort_values(by='fechaOperada', ascending=True)\n",
    "        kind=[]\n",
    "        for i in df.values.tolist():\n",
    "            _='Accion' if i[2] in acciones_now['simbolo'].to_list() else ('Cedear' if i[2] in cedears_now['simbolo'].to_list() else ('Bono' if i[2] in titpub['simbolo'].to_list() else None))\n",
    "            kind.append(_)\n",
    "        df['Tipo de Acción']=kind\n",
    "        df.columns=['Tipo Transacción','Fecha Liquidación','Simbolo','Cantidad','Monto','Precio Ponderado','Tipo de Acción']\n",
    "        return df "
   ]
  },
  {
   "cell_type": "code",
   "execution_count": 302,
   "metadata": {},
   "outputs": [],
   "source": [
    "IOL=TokenManager()\n"
   ]
  },
  {
   "cell_type": "markdown",
   "metadata": {},
   "source": [
    "## Pasos a realizar\n",
    "1. Obtener todas las operaciones hasta la fecha\n",
    "2. Sacar dividendos, amortizaciones y extras\n",
    "3. Agrupar por ticker y luego por mes-->Va a ser rendimiento mensual del portafolio.\n",
    "4. Crear un DataFrame donde las filas sean los meses hasta la fecha y las columnas la cantidad de cada acción/bono neto al final del mes\n",
    "5. Buscar los precios en USD de cada activo\n",
    "6. Crear un nuevo DataFrame con el valor en USD de cada acción al final del mes\n",
    "7. Crear una columna de suma\n",
    "8. Crear una columna de variación porcentual.\n",
    "9. Anualizar a TNA el rendimiento.\n",
    "\n",
    "- Un posible paso extra sería la posibilidad de analizar que activos rindieron más y en que fecha. Es decir explicar el rendimiento de la cartera.\n",
    "\n",
    "\n",
    "\n",
    " \n"
   ]
  },
  {
   "cell_type": "code",
   "execution_count": null,
   "metadata": {},
   "outputs": [],
   "source": [
    "op_hist=IOL.get_operaciones_hist()\n",
    "op_hist=op_hist.copy()\n",
    "ratios={'JPM':3,\n",
    "        'AAPL':2,\n",
    "        'MELI':2,\n",
    "        'VIST':3}\n",
    "fecha_limite = pd.Timestamp('2024-01-26')\n",
    "for ticker in ratios.keys():\n",
    "    filtro = (op_hist['simbolo'] == ticker) & (op_hist['fechaOperada'] < fecha_limite)\n",
    "    op_hist.loc[filtro, 'cantidadOperada'] *= ratios[ticker]\n",
    "op_hist_copy=op_hist.copy()\n",
    "\n",
    "op_hist"
   ]
  },
  {
   "cell_type": "code",
   "execution_count": null,
   "metadata": {},
   "outputs": [],
   "source": [
    "import yfinance as yf\n",
    "tickers={\n",
    "    'YPFD':'YPF',\n",
    "    'PAMP':'PAM',\n",
    "    \"BRKB\":'BRK-B',\n",
    "    'TGSU2':'TGS',\n",
    "    'TECO2':'TEO',\n",
    "    'AE38':'AE38D',\n",
    "    'AL29':'AL29D',\n",
    "    'AL30':'AL30D',\n",
    "    'AL35':'AL35D',\n",
    "    'AL41':'AL41D',\n",
    "    'CO26':'CO26D',\n",
    "    'GD29':'GD29D',\n",
    "    'GD30':'GD30D',\n",
    "    'GD35':'GD35D',\n",
    "    'GD38':'GD38D',\n",
    "    'GD41':'GD41D',\n",
    "    'GD46':'GD46D',\n",
    "    'T2X5':'T2X5D',\n",
    "    'T4X4':'T4X4D',\n",
    "    'TX26':'TX26D',\n",
    "    'TX28':'TX28D',\n",
    "    'BPOA7':'BPA7D',\n",
    "    'BPOB7':'BPB7D',\n",
    "    'BPOC7':'BPC7D',\n",
    "    'BPOD7':'BPD7D',\n",
    "    'BPJ25':'BPJ5D',\n",
    "    'BPY26':'BPY6D'\n",
    "}\n",
    "\n",
    "tickers_usd={}\n",
    "vars_usd={}\n",
    "fails=[]\n",
    "for ticker in op_hist['simbolo'].unique():\n",
    "    try:\n",
    "        data = yf.download(ticker if ticker not in tickers.keys() else tickers[ticker], start=\"2023-01-01\", end=pd.Timestamp.today().strftime('%Y-%m-%d'), interval=\"1d\")\n",
    "        precios_mensuales = data['Adj Close'].resample('M').last()\n",
    "        tickers_usd[ticker]=precios_mensuales\n",
    "        open_=data['Open'].resample('M').first()\n",
    "        close_=data['Close'].resample('M').last()\n",
    "        vars_usd[ticker]=close_/open_-1\n",
    "    except:\n",
    "        fails.append(ticker)\n",
    "        continue\n",
    "fails"
   ]
  },
  {
   "cell_type": "code",
   "execution_count": null,
   "metadata": {},
   "outputs": [],
   "source": [
    "op_hist=op_hist_copy.copy()\n",
    "op_hist['fechaOperada']=[x.strftime('%Y-%m')for x in op_hist['fechaOperada']]\n",
    "op_hist['cantidadOperada']=[op_hist.loc[x]['cantidadOperada'] if op_hist.loc[x]['tipo']=='Compra' else -op_hist.loc[x]['cantidadOperada'] for x in op_hist.index]\n",
    "op_hist=op_hist.groupby(by=['fechaOperada','simbolo'])[['cantidadOperada']].sum()\n",
    "op_hist"
   ]
  },
  {
   "cell_type": "code",
   "execution_count": null,
   "metadata": {},
   "outputs": [],
   "source": [
    "df = pd.DataFrame(index=pd.date_range(start=\"2023-01-01\", end=pd.Timestamp.today(), freq='M'), columns=[s for s in op_hist_copy['simbolo'].unique()])\n",
    "df.index=[x.strftime('%Y-%m') for x in df.index]\n",
    "df=df.loc[op_hist.index[0][0]:]\n",
    "for ind in op_hist.index:\n",
    "    df.at[ind[0],ind[1]]=op_hist.loc[ind][['cantidadOperada']].sum()\n",
    "df"
   ]
  },
  {
   "cell_type": "code",
   "execution_count": 307,
   "metadata": {},
   "outputs": [],
   "source": [
    "import math\n",
    "\n",
    "df_acum={}\n",
    "for col in df.columns:\n",
    "    acumulado = 0\n",
    "    valores_acumulados=[]\n",
    "    # Iterar sobre la lista\n",
    "    for valor in df[col]:\n",
    "        if not math.isnan(valor):\n",
    "            acumulado += valor\n",
    "        # Agregar el valor acumulado actual a la lista\n",
    "        valores_acumulados.append(acumulado)\n",
    "    df_acum[col]=valores_acumulados\n",
    "df_acum=pd.DataFrame(df_acum,index=df.index)"
   ]
  },
  {
   "cell_type": "code",
   "execution_count": null,
   "metadata": {},
   "outputs": [],
   "source": [
    "import requests\n",
    "from bs4 import BeautifulSoup\n",
    "\n",
    "response=requests.get('https://marcosemmi.com/ratios-de-cedears/')\n",
    "soup=BeautifulSoup(response.text,'html.parser')\n",
    "table=soup.find('table')\n",
    "rows = []\n",
    "for tr in table.find_all('tr'):\n",
    "    cells = tr.find_all('td')\n",
    "    row = [cell.get_text(strip=True) for cell in cells]\n",
    "    if row:  # Ignorar filas vacías\n",
    "        rows.append(row)\n",
    "ratios=pd.DataFrame(rows,columns=['ticker','nombre','cod bolsa','ratio','ticker-usd','area'])\n",
    "ratios['ratio']=[float(x.split(':')[0]) for x in ratios['ratio']]\n",
    "ratios.set_index('ticker',inplace=True)\n",
    "ratios=ratios['ratio']\n",
    "ratios"
   ]
  },
  {
   "cell_type": "code",
   "execution_count": null,
   "metadata": {},
   "outputs": [],
   "source": [
    "cantXaccion = {\n",
    "    'PAMP': 25,\n",
    "    'YPFD': 1,\n",
    "    'GGAL': 10,\n",
    "    'CEPU': 10,\n",
    "    'COME': 1,\n",
    "    'TGSU2': 5,\n",
    "    'CRES': 10,\n",
    "    'EDN': 20,\n",
    "    'LOMA': 5,\n",
    "    'BMA': 10,\n",
    "    'BBAR': 3,\n",
    "    'SUPV': 5,\n",
    "    'IRSA': 10,\n",
    "    'TECO2': 5,\n",
    "    'TS': 2,\n",
    "    'IRCP': 4,\n",
    "    'SPY': 20,\n",
    "    'QQQ':20,\n",
    "    'DIA':20,\n",
    "    'IWM':10\n",
    "}\n",
    "\n",
    "\n",
    "price_usd=pd.DataFrame(tickers_usd)\n",
    "price_usd.index=[x.strftime('%Y-%m') for x in price_usd.index]\n",
    "price_usd=price_usd.loc[op_hist.index[0][0]:]\n",
    "for col in price_usd.columns:\n",
    "    if col in cantXaccion.keys():\n",
    "        price_usd[col]=price_usd[col]/cantXaccion[col]\n",
    "    elif col in ratios.index:\n",
    "        price_usd[col]=price_usd[col]/ratios[col]\n",
    "price_usd"
   ]
  },
  {
   "cell_type": "code",
   "execution_count": null,
   "metadata": {},
   "outputs": [],
   "source": [
    "df_val=df_acum.copy()[price_usd.columns]  #CUANDO CONSIGA DATOS DE BONOS DEBERÍA IR \"df.columns\"\n",
    "for col in df_val.columns:\n",
    "    for ind in df_val.index:\n",
    "        df_val.at[ind,col]=df_acum.at[ind,col]*price_usd.at[ind,col]\n",
    "df_val"
   ]
  },
  {
   "cell_type": "code",
   "execution_count": null,
   "metadata": {},
   "outputs": [],
   "source": [
    "df_val['Portfolio']=[sum(df_val.loc[x]) for x in df_val.index]\n",
    "df_val"
   ]
  },
  {
   "cell_type": "code",
   "execution_count": null,
   "metadata": {},
   "outputs": [],
   "source": [
    "vars_usd=pd.DataFrame(vars_usd)\n",
    "vars_usd.index=[x.strftime('%Y-%m') for x in vars_usd.index]\n",
    "vars_usd=vars_usd.loc[op_hist.index[0][0]:]\n",
    "spy=vars_usd['SPY']\n",
    "vars_usd"
   ]
  },
  {
   "cell_type": "code",
   "execution_count": null,
   "metadata": {},
   "outputs": [],
   "source": [
    "var_pond=df_val.copy()\n",
    "for col in var_pond.columns:\n",
    "    var_pond[col]=var_pond[col]/var_pond['Portfolio']\n",
    "var_pond=var_pond.drop(columns=['Portfolio'])\n",
    "var_pond"
   ]
  },
  {
   "cell_type": "code",
   "execution_count": null,
   "metadata": {},
   "outputs": [],
   "source": [
    "for ind in var_pond.index:\n",
    "    for col in var_pond.columns:\n",
    "        var_pond.at[ind,col]*=vars_usd.at[ind,col]\n",
    "var_pond"
   ]
  },
  {
   "cell_type": "code",
   "execution_count": null,
   "metadata": {},
   "outputs": [],
   "source": [
    "var_pond['Portfolio']=[sum(var_pond.loc[x]) for x in var_pond.index]\n",
    "var_pond"
   ]
  },
  {
   "cell_type": "code",
   "execution_count": 319,
   "metadata": {},
   "outputs": [
    {
     "data": {
      "application/vnd.plotly.v1+json": {
       "config": {
        "plotlyServerURL": "https://plot.ly"
       },
       "data": [
        {
         "name": "Portfolio",
         "type": "scatter",
         "x": [
          "2023-05",
          "2023-06",
          "2023-07",
          "2023-08",
          "2023-09",
          "2023-10",
          "2023-11",
          "2023-12",
          "2024-01",
          "2024-02",
          "2024-03",
          "2024-04",
          "2024-05",
          "2024-06",
          "2024-07",
          "2024-08",
          "2024-09"
         ],
         "y": [
          0.00944664807687945,
          0.20018467009090374,
          0.008486162698781729,
          0.027334014714456036,
          -0.0732752292261263,
          -0.062216887737588135,
          0.2962964588491744,
          0.027595969382593302,
          0.06304006661206694,
          0.020701197288356187,
          0.08049425272677685,
          0.07451417684826245,
          0.09040075354889125,
          -0.06568602748084433,
          -0.02418159425691076,
          0.14106258984125536,
          -0.013696858788542394
         ]
        },
        {
         "name": "SPY",
         "type": "scatter",
         "x": [
          "2023-05",
          "2023-06",
          "2023-07",
          "2023-08",
          "2023-09",
          "2023-10",
          "2023-11",
          "2023-12",
          "2024-01",
          "2024-02",
          "2024-03",
          "2024-04",
          "2024-05",
          "2024-06",
          "2024-07",
          "2024-08",
          "2024-09"
         ],
         "y": [
          0.005728463850144916,
          0.060250191733954406,
          0.033572642161977306,
          -0.012974736565412925,
          -0.05668954626342004,
          -0.019736493850559866,
          0.08874041175142211,
          0.042872521262771635,
          0.022704170487881203,
          0.0483873913154087,
          0.027682808821089644,
          -0.04171201609427444,
          0.05183691009067992,
          0.028732279707190056,
          0.009493599379480244,
          0.020106023136076123,
          -0.03588057595009764
         ]
        }
       ],
       "layout": {
        "template": {
         "data": {
          "bar": [
           {
            "error_x": {
             "color": "#2a3f5f"
            },
            "error_y": {
             "color": "#2a3f5f"
            },
            "marker": {
             "line": {
              "color": "#E5ECF6",
              "width": 0.5
             },
             "pattern": {
              "fillmode": "overlay",
              "size": 10,
              "solidity": 0.2
             }
            },
            "type": "bar"
           }
          ],
          "barpolar": [
           {
            "marker": {
             "line": {
              "color": "#E5ECF6",
              "width": 0.5
             },
             "pattern": {
              "fillmode": "overlay",
              "size": 10,
              "solidity": 0.2
             }
            },
            "type": "barpolar"
           }
          ],
          "carpet": [
           {
            "aaxis": {
             "endlinecolor": "#2a3f5f",
             "gridcolor": "white",
             "linecolor": "white",
             "minorgridcolor": "white",
             "startlinecolor": "#2a3f5f"
            },
            "baxis": {
             "endlinecolor": "#2a3f5f",
             "gridcolor": "white",
             "linecolor": "white",
             "minorgridcolor": "white",
             "startlinecolor": "#2a3f5f"
            },
            "type": "carpet"
           }
          ],
          "choropleth": [
           {
            "colorbar": {
             "outlinewidth": 0,
             "ticks": ""
            },
            "type": "choropleth"
           }
          ],
          "contour": [
           {
            "colorbar": {
             "outlinewidth": 0,
             "ticks": ""
            },
            "colorscale": [
             [
              0,
              "#0d0887"
             ],
             [
              0.1111111111111111,
              "#46039f"
             ],
             [
              0.2222222222222222,
              "#7201a8"
             ],
             [
              0.3333333333333333,
              "#9c179e"
             ],
             [
              0.4444444444444444,
              "#bd3786"
             ],
             [
              0.5555555555555556,
              "#d8576b"
             ],
             [
              0.6666666666666666,
              "#ed7953"
             ],
             [
              0.7777777777777778,
              "#fb9f3a"
             ],
             [
              0.8888888888888888,
              "#fdca26"
             ],
             [
              1,
              "#f0f921"
             ]
            ],
            "type": "contour"
           }
          ],
          "contourcarpet": [
           {
            "colorbar": {
             "outlinewidth": 0,
             "ticks": ""
            },
            "type": "contourcarpet"
           }
          ],
          "heatmap": [
           {
            "colorbar": {
             "outlinewidth": 0,
             "ticks": ""
            },
            "colorscale": [
             [
              0,
              "#0d0887"
             ],
             [
              0.1111111111111111,
              "#46039f"
             ],
             [
              0.2222222222222222,
              "#7201a8"
             ],
             [
              0.3333333333333333,
              "#9c179e"
             ],
             [
              0.4444444444444444,
              "#bd3786"
             ],
             [
              0.5555555555555556,
              "#d8576b"
             ],
             [
              0.6666666666666666,
              "#ed7953"
             ],
             [
              0.7777777777777778,
              "#fb9f3a"
             ],
             [
              0.8888888888888888,
              "#fdca26"
             ],
             [
              1,
              "#f0f921"
             ]
            ],
            "type": "heatmap"
           }
          ],
          "heatmapgl": [
           {
            "colorbar": {
             "outlinewidth": 0,
             "ticks": ""
            },
            "colorscale": [
             [
              0,
              "#0d0887"
             ],
             [
              0.1111111111111111,
              "#46039f"
             ],
             [
              0.2222222222222222,
              "#7201a8"
             ],
             [
              0.3333333333333333,
              "#9c179e"
             ],
             [
              0.4444444444444444,
              "#bd3786"
             ],
             [
              0.5555555555555556,
              "#d8576b"
             ],
             [
              0.6666666666666666,
              "#ed7953"
             ],
             [
              0.7777777777777778,
              "#fb9f3a"
             ],
             [
              0.8888888888888888,
              "#fdca26"
             ],
             [
              1,
              "#f0f921"
             ]
            ],
            "type": "heatmapgl"
           }
          ],
          "histogram": [
           {
            "marker": {
             "pattern": {
              "fillmode": "overlay",
              "size": 10,
              "solidity": 0.2
             }
            },
            "type": "histogram"
           }
          ],
          "histogram2d": [
           {
            "colorbar": {
             "outlinewidth": 0,
             "ticks": ""
            },
            "colorscale": [
             [
              0,
              "#0d0887"
             ],
             [
              0.1111111111111111,
              "#46039f"
             ],
             [
              0.2222222222222222,
              "#7201a8"
             ],
             [
              0.3333333333333333,
              "#9c179e"
             ],
             [
              0.4444444444444444,
              "#bd3786"
             ],
             [
              0.5555555555555556,
              "#d8576b"
             ],
             [
              0.6666666666666666,
              "#ed7953"
             ],
             [
              0.7777777777777778,
              "#fb9f3a"
             ],
             [
              0.8888888888888888,
              "#fdca26"
             ],
             [
              1,
              "#f0f921"
             ]
            ],
            "type": "histogram2d"
           }
          ],
          "histogram2dcontour": [
           {
            "colorbar": {
             "outlinewidth": 0,
             "ticks": ""
            },
            "colorscale": [
             [
              0,
              "#0d0887"
             ],
             [
              0.1111111111111111,
              "#46039f"
             ],
             [
              0.2222222222222222,
              "#7201a8"
             ],
             [
              0.3333333333333333,
              "#9c179e"
             ],
             [
              0.4444444444444444,
              "#bd3786"
             ],
             [
              0.5555555555555556,
              "#d8576b"
             ],
             [
              0.6666666666666666,
              "#ed7953"
             ],
             [
              0.7777777777777778,
              "#fb9f3a"
             ],
             [
              0.8888888888888888,
              "#fdca26"
             ],
             [
              1,
              "#f0f921"
             ]
            ],
            "type": "histogram2dcontour"
           }
          ],
          "mesh3d": [
           {
            "colorbar": {
             "outlinewidth": 0,
             "ticks": ""
            },
            "type": "mesh3d"
           }
          ],
          "parcoords": [
           {
            "line": {
             "colorbar": {
              "outlinewidth": 0,
              "ticks": ""
             }
            },
            "type": "parcoords"
           }
          ],
          "pie": [
           {
            "automargin": true,
            "type": "pie"
           }
          ],
          "scatter": [
           {
            "fillpattern": {
             "fillmode": "overlay",
             "size": 10,
             "solidity": 0.2
            },
            "type": "scatter"
           }
          ],
          "scatter3d": [
           {
            "line": {
             "colorbar": {
              "outlinewidth": 0,
              "ticks": ""
             }
            },
            "marker": {
             "colorbar": {
              "outlinewidth": 0,
              "ticks": ""
             }
            },
            "type": "scatter3d"
           }
          ],
          "scattercarpet": [
           {
            "marker": {
             "colorbar": {
              "outlinewidth": 0,
              "ticks": ""
             }
            },
            "type": "scattercarpet"
           }
          ],
          "scattergeo": [
           {
            "marker": {
             "colorbar": {
              "outlinewidth": 0,
              "ticks": ""
             }
            },
            "type": "scattergeo"
           }
          ],
          "scattergl": [
           {
            "marker": {
             "colorbar": {
              "outlinewidth": 0,
              "ticks": ""
             }
            },
            "type": "scattergl"
           }
          ],
          "scattermapbox": [
           {
            "marker": {
             "colorbar": {
              "outlinewidth": 0,
              "ticks": ""
             }
            },
            "type": "scattermapbox"
           }
          ],
          "scatterpolar": [
           {
            "marker": {
             "colorbar": {
              "outlinewidth": 0,
              "ticks": ""
             }
            },
            "type": "scatterpolar"
           }
          ],
          "scatterpolargl": [
           {
            "marker": {
             "colorbar": {
              "outlinewidth": 0,
              "ticks": ""
             }
            },
            "type": "scatterpolargl"
           }
          ],
          "scatterternary": [
           {
            "marker": {
             "colorbar": {
              "outlinewidth": 0,
              "ticks": ""
             }
            },
            "type": "scatterternary"
           }
          ],
          "surface": [
           {
            "colorbar": {
             "outlinewidth": 0,
             "ticks": ""
            },
            "colorscale": [
             [
              0,
              "#0d0887"
             ],
             [
              0.1111111111111111,
              "#46039f"
             ],
             [
              0.2222222222222222,
              "#7201a8"
             ],
             [
              0.3333333333333333,
              "#9c179e"
             ],
             [
              0.4444444444444444,
              "#bd3786"
             ],
             [
              0.5555555555555556,
              "#d8576b"
             ],
             [
              0.6666666666666666,
              "#ed7953"
             ],
             [
              0.7777777777777778,
              "#fb9f3a"
             ],
             [
              0.8888888888888888,
              "#fdca26"
             ],
             [
              1,
              "#f0f921"
             ]
            ],
            "type": "surface"
           }
          ],
          "table": [
           {
            "cells": {
             "fill": {
              "color": "#EBF0F8"
             },
             "line": {
              "color": "white"
             }
            },
            "header": {
             "fill": {
              "color": "#C8D4E3"
             },
             "line": {
              "color": "white"
             }
            },
            "type": "table"
           }
          ]
         },
         "layout": {
          "annotationdefaults": {
           "arrowcolor": "#2a3f5f",
           "arrowhead": 0,
           "arrowwidth": 1
          },
          "autotypenumbers": "strict",
          "coloraxis": {
           "colorbar": {
            "outlinewidth": 0,
            "ticks": ""
           }
          },
          "colorscale": {
           "diverging": [
            [
             0,
             "#8e0152"
            ],
            [
             0.1,
             "#c51b7d"
            ],
            [
             0.2,
             "#de77ae"
            ],
            [
             0.3,
             "#f1b6da"
            ],
            [
             0.4,
             "#fde0ef"
            ],
            [
             0.5,
             "#f7f7f7"
            ],
            [
             0.6,
             "#e6f5d0"
            ],
            [
             0.7,
             "#b8e186"
            ],
            [
             0.8,
             "#7fbc41"
            ],
            [
             0.9,
             "#4d9221"
            ],
            [
             1,
             "#276419"
            ]
           ],
           "sequential": [
            [
             0,
             "#0d0887"
            ],
            [
             0.1111111111111111,
             "#46039f"
            ],
            [
             0.2222222222222222,
             "#7201a8"
            ],
            [
             0.3333333333333333,
             "#9c179e"
            ],
            [
             0.4444444444444444,
             "#bd3786"
            ],
            [
             0.5555555555555556,
             "#d8576b"
            ],
            [
             0.6666666666666666,
             "#ed7953"
            ],
            [
             0.7777777777777778,
             "#fb9f3a"
            ],
            [
             0.8888888888888888,
             "#fdca26"
            ],
            [
             1,
             "#f0f921"
            ]
           ],
           "sequentialminus": [
            [
             0,
             "#0d0887"
            ],
            [
             0.1111111111111111,
             "#46039f"
            ],
            [
             0.2222222222222222,
             "#7201a8"
            ],
            [
             0.3333333333333333,
             "#9c179e"
            ],
            [
             0.4444444444444444,
             "#bd3786"
            ],
            [
             0.5555555555555556,
             "#d8576b"
            ],
            [
             0.6666666666666666,
             "#ed7953"
            ],
            [
             0.7777777777777778,
             "#fb9f3a"
            ],
            [
             0.8888888888888888,
             "#fdca26"
            ],
            [
             1,
             "#f0f921"
            ]
           ]
          },
          "colorway": [
           "#636efa",
           "#EF553B",
           "#00cc96",
           "#ab63fa",
           "#FFA15A",
           "#19d3f3",
           "#FF6692",
           "#B6E880",
           "#FF97FF",
           "#FECB52"
          ],
          "font": {
           "color": "#2a3f5f"
          },
          "geo": {
           "bgcolor": "white",
           "lakecolor": "white",
           "landcolor": "#E5ECF6",
           "showlakes": true,
           "showland": true,
           "subunitcolor": "white"
          },
          "hoverlabel": {
           "align": "left"
          },
          "hovermode": "closest",
          "mapbox": {
           "style": "light"
          },
          "paper_bgcolor": "white",
          "plot_bgcolor": "#E5ECF6",
          "polar": {
           "angularaxis": {
            "gridcolor": "white",
            "linecolor": "white",
            "ticks": ""
           },
           "bgcolor": "#E5ECF6",
           "radialaxis": {
            "gridcolor": "white",
            "linecolor": "white",
            "ticks": ""
           }
          },
          "scene": {
           "xaxis": {
            "backgroundcolor": "#E5ECF6",
            "gridcolor": "white",
            "gridwidth": 2,
            "linecolor": "white",
            "showbackground": true,
            "ticks": "",
            "zerolinecolor": "white"
           },
           "yaxis": {
            "backgroundcolor": "#E5ECF6",
            "gridcolor": "white",
            "gridwidth": 2,
            "linecolor": "white",
            "showbackground": true,
            "ticks": "",
            "zerolinecolor": "white"
           },
           "zaxis": {
            "backgroundcolor": "#E5ECF6",
            "gridcolor": "white",
            "gridwidth": 2,
            "linecolor": "white",
            "showbackground": true,
            "ticks": "",
            "zerolinecolor": "white"
           }
          },
          "shapedefaults": {
           "line": {
            "color": "#2a3f5f"
           }
          },
          "ternary": {
           "aaxis": {
            "gridcolor": "white",
            "linecolor": "white",
            "ticks": ""
           },
           "baxis": {
            "gridcolor": "white",
            "linecolor": "white",
            "ticks": ""
           },
           "bgcolor": "#E5ECF6",
           "caxis": {
            "gridcolor": "white",
            "linecolor": "white",
            "ticks": ""
           }
          },
          "title": {
           "x": 0.05
          },
          "xaxis": {
           "automargin": true,
           "gridcolor": "white",
           "linecolor": "white",
           "ticks": "",
           "title": {
            "standoff": 15
           },
           "zerolinecolor": "white",
           "zerolinewidth": 2
          },
          "yaxis": {
           "automargin": true,
           "gridcolor": "white",
           "linecolor": "white",
           "ticks": "",
           "title": {
            "standoff": 15
           },
           "zerolinecolor": "white",
           "zerolinewidth": 2
          }
         }
        }
       }
      }
     },
     "metadata": {},
     "output_type": "display_data"
    }
   ],
   "source": [
    "from plotly import graph_objects as go\n",
    "\n",
    "fig=go.Figure()\n",
    "fig.add_trace(go.Scatter(x=var_pond.index,y=var_pond['Portfolio'],name='Portfolio'))\n",
    "fig.add_trace(go.Scatter(x=spy.index,y=spy,name='SPY'))\n",
    "fig.show()\n"
   ]
  },
  {
   "cell_type": "code",
   "execution_count": null,
   "metadata": {},
   "outputs": [],
   "source": [
    "print(var_pond['Portfolio'].mean())\n",
    "print(spy.mean())"
   ]
  },
  {
   "cell_type": "code",
   "execution_count": null,
   "metadata": {},
   "outputs": [],
   "source": []
  }
 ],
 "metadata": {
  "kernelspec": {
   "display_name": "Python 3",
   "language": "python",
   "name": "python3"
  },
  "language_info": {
   "codemirror_mode": {
    "name": "ipython",
    "version": 3
   },
   "file_extension": ".py",
   "mimetype": "text/x-python",
   "name": "python",
   "nbconvert_exporter": "python",
   "pygments_lexer": "ipython3",
   "version": "3.11.2"
  }
 },
 "nbformat": 4,
 "nbformat_minor": 2
}
